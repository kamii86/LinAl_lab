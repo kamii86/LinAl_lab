{
  "nbformat": 4,
  "nbformat_minor": 0,
  "metadata": {
    "colab": {
      "provenance": []
    },
    "kernelspec": {
      "name": "python3",
      "display_name": "Python 3"
    },
    "language_info": {
      "name": "python"
    }
  },
  "cells": [
    {
      "cell_type": "markdown",
      "source": [
        "# Класс Matrix (из предыдущей лабораторной работы)"
      ],
      "metadata": {
        "id": "ov7K9xU6DfbD"
      }
    },
    {
      "cell_type": "markdown",
      "source": [
        "Создан класс разреженной матрицы Matrix.\n",
        "* В конструкторе задаются размеры и структуры хранения.\n",
        "* Метод AddElement добавляет ненулевой элемент в разреженную структуру.\n",
        "* GetElement и ToRegularMatrix обеспечивают доступ к полному виду матрицы.\n",
        "* Transpose и Dot выполняют транспонирование и умножение матриц.\n",
        "* NormalizeVector нормализует вектор по L2-норме.\n",
        "* Determinant вычисляет определитель через модифицированный метод Гаусса."
      ],
      "metadata": {
        "id": "jhGsiVf5UCIz"
      }
    },
    {
      "cell_type": "code",
      "source": [
        "import copy\n",
        "\n",
        "class Matrix:\n",
        "    def __init__(self, rows: int, cols: int):\n",
        "        self.rows = rows\n",
        "        self.cols = cols\n",
        "        self.data = list()\n",
        "        self.columns = list()\n",
        "        self.row_ptr = [0]\n",
        "\n",
        "# добавляем ненулевое значение в нужную ячейку\n",
        "    def AddElement(self,row: int,col: int, value : float):\n",
        "        if (row >= self.rows or col >= self.cols): #Проверка границ строки и столбца\n",
        "            assert False\n",
        "        #Поддержка корректной длины row_ptr\n",
        "        while(len(self.row_ptr) != (row + 2)):\n",
        "            self.row_ptr.append(self.row_ptr[len(self.row_ptr) - 1])\n",
        "        #Добавление ненулевых элементов\n",
        "        if (value != 0):\n",
        "            self.data.append(value)\n",
        "            self.columns.append(col)\n",
        "            self.row_ptr[row+1] += 1\n",
        "\n",
        "    def GetElement(self,row: int,col: int):\n",
        "        #Проверка границ строки и столбца\n",
        "        if (row >= self.rows or col >= self.cols):\n",
        "            assert False\n",
        "        start = self.row_ptr[row]\n",
        "        end = self.row_ptr[row +1]\n",
        "        #Поиск запрашиваемого элемента\n",
        "        for i in range(start,end):\n",
        "            if (self.columns[i] == col):\n",
        "                value = self.data[i]\n",
        "                if (int(value) == value):\n",
        "                    return int(value)\n",
        "                return value\n",
        "        #Если элемент не найден\n",
        "        return 0\n",
        "\n",
        "\n",
        "    def swap_rows_(self,data,col,row_ptr, row1, row2):\n",
        "\n",
        "        row1_start, row1_end = row_ptr[row1], row_ptr[row1 + 1]\n",
        "        row2_start, row2_end = row_ptr[row2], row_ptr[row2 + 1]\n",
        "\n",
        "        row1_data = data[row1_start:row1_end]\n",
        "        row1_col = col[row1_start:row1_end]\n",
        "        row2_data = data[row2_start:row2_end]\n",
        "        row2_col = col[row2_start:row2_end]\n",
        "\n",
        "        new_data = []\n",
        "        new_indices = []\n",
        "        new_row_ptr = [0]\n",
        "\n",
        "        # перебираем все строки\n",
        "        for i in range(self.rows):\n",
        "            if i == row1:\n",
        "                new_data.extend(row2_data)\n",
        "                new_indices.extend(row2_col)\n",
        "            elif i == row2:\n",
        "                new_data.extend(row1_data)\n",
        "                new_indices.extend(row1_col)\n",
        "            else:\n",
        "                start, end = row_ptr[i], row_ptr[i + 1]\n",
        "                new_data.extend(data[start:end])\n",
        "                new_indices.extend(col[start:end])\n",
        "\n",
        "\n",
        "            new_row_ptr.append(len(new_data))\n",
        "        return new_data,new_indices,new_row_ptr\n",
        "\n",
        "\n",
        "    def ToRegularMatrix(self):\n",
        "        matrix = [[0] * self.cols for _ in range(self.rows)]\n",
        "        for i in range(self.rows):\n",
        "\n",
        "            start = self.row_ptr[i]\n",
        "            end = self.row_ptr[i + 1]\n",
        "            for j in range(start, end):\n",
        "                matrix[i][self.columns[j]] = self.data[j]\n",
        "        return matrix\n",
        "\n",
        "    # транспонирование\n",
        "    def Transpose(self) -> 'Matrix':\n",
        "        result = Matrix(self.cols, self.rows)\n",
        "        for i in range(self.rows):\n",
        "            for j in range(self.row_ptr[i], self.row_ptr[i + 1]):\n",
        "                col = self.columns[j]\n",
        "                val = self.data[j]\n",
        "                result.AddElement(col, i, val)\n",
        "        return result\n",
        "\n",
        "    #умножение матриц\n",
        "    def Dot(self, other: 'Matrix') -> 'Matrix':\n",
        "        if self.cols != other.rows:\n",
        "            raise ValueError(\"Несовместимые размеры для умножения\")\n",
        "        result = Matrix(self.rows, other.cols)\n",
        "        B = other.ToRegularMatrix()\n",
        "        for i in range(self.rows):\n",
        "            row_vec = [0] * self.cols\n",
        "            for j in range(self.row_ptr[i], self.row_ptr[i + 1]):\n",
        "                row_vec[self.columns[j]] = self.data[j]\n",
        "            for col in range(other.cols):\n",
        "                dot = sum(row_vec[k] * B[k][col] for k in range(self.cols))\n",
        "                if abs(dot) > 1e-12:\n",
        "                    result.AddElement(i, col, dot)\n",
        "        return result\n",
        "\n",
        "    # нормализация вектора\n",
        "    def NormalizeVector(vec: 'Matrix') -> 'Matrix':\n",
        "        norm = math.sqrt(sum(vec.GetElement(i, 0)**2 for i in range(vec.rows)))\n",
        "        if norm == 0:\n",
        "            return vec\n",
        "        result = Matrix(vec.rows, 1)\n",
        "        for i in range(vec.rows):\n",
        "            result.AddElement(i, 0, vec.GetElement(i, 0) / norm)\n",
        "        return result\n",
        "\n",
        "    def Determinant(self):\n",
        "        if self.rows != self.cols:\n",
        "            raise ValueError(\"Матрица должна быть квадратной\")\n",
        "\n",
        "        n = self.rows\n",
        "        diag = [0] * n  # Диагональные элементы\n",
        "\n",
        "\n",
        "        # Копируем исходные данные для изменения\n",
        "        tmp_data = self.data[:]\n",
        "        tmp_columns = self.columns[:]\n",
        "        tmp_row_ptr = self.row_ptr[:]\n",
        "\n",
        "\n",
        "        sign = 1\n",
        "\n",
        "\n",
        "        for i in range(n):\n",
        "            # Поиск диагонального элемента\n",
        "            diag_elem = None\n",
        "            for idx in range(tmp_row_ptr[i], tmp_row_ptr[i + 1]):\n",
        "                if tmp_columns[idx] == i:\n",
        "                    diag_elem = tmp_data[idx]\n",
        "                    break\n",
        "\n",
        "            if diag_elem is None or diag_elem == 0:\n",
        "                swapped = False\n",
        "                for j in range(i + 1, n):\n",
        "                    for idx in range(tmp_row_ptr[j], tmp_row_ptr[j + 1]):\n",
        "                        if tmp_columns[idx] == i and tmp_data[idx] != 0:\n",
        "                            # Меняем строки i и j\n",
        "                            tmp_data,tmp_columns,tmp_row_ptr = self.swap_rows_(tmp_data,tmp_columns,tmp_row_ptr,i,j)\n",
        "                            swapped = True\n",
        "                            sign *= -1  # Меняем знак\n",
        "                            break\n",
        "                    if swapped:\n",
        "                        break\n",
        "                if not swapped:\n",
        "                    return 0,\"нет\"\n",
        "\n",
        "                for idx in range(tmp_row_ptr[i], tmp_row_ptr[i + 1]):\n",
        "                    if tmp_columns[idx] == i:\n",
        "                        diag_elem = tmp_data[idx]\n",
        "                        break\n",
        "\n",
        "\n",
        "            diag[i] = diag_elem\n",
        "\n",
        "\n",
        "            for idx in range(tmp_row_ptr[i], tmp_row_ptr[i + 1]):\n",
        "                tmp_data[idx] /= diag_elem\n",
        "\n",
        "            # Вычитаем строку i из всех последующих строк\n",
        "            for j in range(i + 1, n):\n",
        "                factor = None\n",
        "                for idx in range(tmp_row_ptr[j], tmp_row_ptr[j + 1]):\n",
        "                    if tmp_columns[idx] == i:\n",
        "                        factor = tmp_data[idx]\n",
        "                        tmp_data[idx] = 0\n",
        "                        break\n",
        "\n",
        "                if factor is not None:\n",
        "                    # Вычитаем строки с учетом коэффициента\n",
        "                    for idx in range(tmp_row_ptr[i], tmp_row_ptr[i + 1]):\n",
        "                        col = tmp_columns[idx]\n",
        "                        value = tmp_data[idx]\n",
        "                        for k in range(tmp_row_ptr[j], tmp_row_ptr[j + 1]):\n",
        "                            if tmp_columns[k] == tmp_columns[idx]:\n",
        "                                tmp_data[k] -= factor * value\n",
        "                                break\n",
        "                        else:\n",
        "                            # Элемент не найден\n",
        "                            start = tmp_row_ptr[j]\n",
        "                            end = tmp_row_ptr[j + 1]\n",
        "\n",
        "                            # Поиск позиции\n",
        "                            insert_pos = start\n",
        "                            while insert_pos < end and tmp_columns[insert_pos] < col:\n",
        "                                insert_pos += 1\n",
        "\n",
        "                            # Вставляем новый элемент\n",
        "                            tmp_data.insert(insert_pos, -factor * value)\n",
        "                            tmp_columns.insert(insert_pos, col)\n",
        "\n",
        "                            # Обновляем row_ptr\n",
        "                            for k in range(j + 1, len(tmp_row_ptr)):\n",
        "                                tmp_row_ptr[k] += 1\n",
        "\n",
        "        det = sign\n",
        "        for i in diag:\n",
        "            det *= i\n",
        "\n",
        "        return det\n"
      ],
      "metadata": {
        "id": "zfSGcVeGDxP8"
      },
      "execution_count": 1,
      "outputs": []
    },
    {
      "cell_type": "markdown",
      "source": [
        "---\n",
        "\n",
        "# EASY LEVEL\n",
        "\n",
        "---\n",
        "\n"
      ],
      "metadata": {
        "id": "43fNwoscsPzQ"
      }
    },
    {
      "cell_type": "markdown",
      "source": [
        "## Реализовать метод Гаусса для решения СЛАУ"
      ],
      "metadata": {
        "id": "m4syiBtAsBJP"
      }
    },
    {
      "cell_type": "markdown",
      "source": [
        "* В приведенной реализации мы сначала\n",
        "копируем матрицу A и вектор b, чтобы не менять их напрямую.\n",
        "* Затем выполняется прямой ход: для каждого столбца выбираем максимальный по модулю элемент в качестве опорного (для численной устойчивости и чтобы избежать деления на ноль), при необходимости меняем строки.\n",
        "* Далее опорную строку масштабируем так, чтобы опорный элемент стал равен 1, и с её помощью зануляем элементы ниже в том же столбце.\n",
        "* После окончания прямого хода матрица превращается в верхнюю треугольную (в M выше главной диагонали содержатся коэффициенты, ниже – нули).\n",
        "* Затем выполняется обратный ход: начиная с последней строки, рассчитываем значения неизвестных с учётом уже найденных на предыдущих шагах.\n",
        "* Функция возвращает список базисных векторов решения системы."
      ],
      "metadata": {
        "id": "fm-hLD7efqWi"
      }
    },
    {
      "cell_type": "code",
      "execution_count": 2,
      "metadata": {
        "id": "j3KYFad_o_kj"
      },
      "outputs": [],
      "source": [
        "from typing import List\n",
        "\n",
        "def gauss_solver(A: 'Matrix', b: 'Matrix') -> List['Matrix']:\n",
        "\n",
        "    # Проверка размерности матриц\n",
        "    if A.rows != A.cols:\n",
        "        raise ValueError(\"Матрица A должна быть квадратной\")\n",
        "    if A.rows != b.rows or b.cols != 1:\n",
        "        raise ValueError(\"Несовместимые размеры матриц A и b\")\n",
        "\n",
        "    n = A.rows\n",
        "\n",
        "    # Преобразуем матрицы к плотному виду\n",
        "    dense_A = A.ToRegularMatrix()\n",
        "    dense_b = [row[0] for row in b.ToRegularMatrix()]\n",
        "\n",
        "    # Создаем расширенную матрицу [A|b]\n",
        "    aug = [row.copy() + [dense_b[i]] for i, row in enumerate(dense_A)]\n",
        "\n",
        "    # Прямой ход метода Гаусса\n",
        "    for col in range(n):\n",
        "        # Выбор главного элемента (для устойчивости)\n",
        "        max_row = max(range(col, n), key=lambda r: abs(aug[r][col]))\n",
        "        aug[col], aug[max_row] = aug[max_row], aug[col]\n",
        "\n",
        "        # Проверка на вырожденность\n",
        "        if abs(aug[col][col]) < 1e-10:\n",
        "            # Проверяем на несовместность\n",
        "            if abs(aug[col][-1]) > 1e-10:\n",
        "                raise ValueError(\"Система несовместна\")\n",
        "            continue\n",
        "\n",
        "        # Нормализация текущей строки\n",
        "        pivot = aug[col][col]\n",
        "        aug[col] = [x / pivot for x in aug[col]]\n",
        "\n",
        "        # Обнуление элементов ниже\n",
        "        for row in range(col + 1, n):\n",
        "            factor = aug[row][col]\n",
        "            aug[row] = [a - factor * b for a, b in zip(aug[row], aug[col])]\n",
        "\n",
        "    # Обратный ход\n",
        "    solution = [0.0] * n\n",
        "    for row in reversed(range(n)):\n",
        "        # Ищем первый ненулевой элемент в строке\n",
        "        pivot_col = next((c for c in range(n) if abs(aug[row][c]) > 1e-10), None)\n",
        "\n",
        "        if pivot_col is not None:\n",
        "            solution[pivot_col] = aug[row][-1]\n",
        "            for c in range(pivot_col + 1, n):\n",
        "                solution[pivot_col] -= aug[row][c] * solution[c]\n",
        "\n",
        "    # Создаем объект Matrix для решения\n",
        "    result = Matrix(n, 1)\n",
        "    for i in range(n):\n",
        "        result.AddElement(i, 0, solution[i])\n",
        "\n",
        "    return [result]"
      ]
    },
    {
      "cell_type": "markdown",
      "source": [
        "## Реализовать функцию центрирования данных"
      ],
      "metadata": {
        "id": "XhwaBh_8ssL3"
      }
    },
    {
      "cell_type": "markdown",
      "source": [
        "Функция center_data центрирует данные: для каждой колонки вычисляет её среднее и вычитает его из каждого элемента, делая среднее равным нулю."
      ],
      "metadata": {
        "id": "KY-DNJ_2sdsz"
      }
    },
    {
      "cell_type": "code",
      "source": [
        "def center_data(X: 'Matrix') -> 'Matrix':\n",
        "\n",
        "    # Получаем размеры матрицы\n",
        "    n = X.rows\n",
        "    m = X.cols\n",
        "\n",
        "    # Создаем новую матрицу для результата\n",
        "    X_centered = Matrix(n, m)\n",
        "\n",
        "    # Вычисляем средние значения по каждому столбцу\n",
        "    means = [0.0] * m\n",
        "    for col in range(m):\n",
        "        # Суммируем элементы столбца\n",
        "        col_sum = 0.0\n",
        "        for row in range(n):\n",
        "            col_sum += X.GetElement(row, col)\n",
        "        # Вычисляем среднее\n",
        "        means[col] = col_sum / n\n",
        "\n",
        "    # Центрируем данные\n",
        "    for row in range(n):\n",
        "        for col in range(m):\n",
        "            # Вычитаем среднее значение столбца из каждого элемента\n",
        "            centered_value = X.GetElement(row, col) - means[col]\n",
        "            X_centered.AddElement(row, col, centered_value)\n",
        "\n",
        "    return X_centered"
      ],
      "metadata": {
        "id": "Q5A_v86YtFn_"
      },
      "execution_count": 3,
      "outputs": []
    },
    {
      "cell_type": "markdown",
      "source": [
        "##Вычислить матрицу ковариаций"
      ],
      "metadata": {
        "id": "4U8h_iXXtGw4"
      }
    },
    {
      "cell_type": "markdown",
      "source": [
        "covariance_matrix строит выборочную ковариационную матрицу центрированных данных: перемножает транспонированную матрицу на саму себя, делит на\n",
        "n−1 и сохраняет симметричный разреженный результат."
      ],
      "metadata": {
        "id": "I7pshaZtsk48"
      }
    },
    {
      "cell_type": "code",
      "source": [
        "# Реализация функции вычисления ковариационной матрицы\n",
        "def covariance_matrix(X_centered: 'Matrix') -> 'Matrix':\n",
        "\n",
        "    n, m = X_centered.rows, X_centered.cols\n",
        "    result = Matrix(m, m)\n",
        "\n",
        "    # Словарь для ускоренного доступа: col -> {row: value}\n",
        "    columns_data = [dict() for _ in range(m)]\n",
        "    for i in range(n):\n",
        "        for j in range(X_centered.row_ptr[i], X_centered.row_ptr[i + 1]):\n",
        "            col = X_centered.columns[j]\n",
        "            val = X_centered.data[j]\n",
        "            columns_data[col][i] = val\n",
        "\n",
        "    for i in range(m):\n",
        "        for j in range(i, m):\n",
        "            total = 0.0\n",
        "            # Перемножаем столбцы i и j\n",
        "            common_rows = set(columns_data[i].keys()) & set(columns_data[j].keys())\n",
        "            for row in common_rows:\n",
        "                total += columns_data[i][row] * columns_data[j][row]\n",
        "            cov = total / (n - 1)\n",
        "            if abs(cov) > 1e-12:\n",
        "                result.AddElement(i, j, cov)\n",
        "                if i != j:\n",
        "                    result.AddElement(j, i, cov)  # симметрия\n",
        "\n",
        "    return result\n"
      ],
      "metadata": {
        "id": "PMUCwJ0avJ74"
      },
      "execution_count": 4,
      "outputs": []
    },
    {
      "cell_type": "markdown",
      "source": [
        "---\n",
        "\n",
        "# NORMAL LEVEL\n",
        "\n",
        "---\n",
        "\n"
      ],
      "metadata": {
        "id": "E8C-ytxytSgH"
      }
    },
    {
      "cell_type": "markdown",
      "source": [
        "## Найти собственные значения матрицы С методом бисекции"
      ],
      "metadata": {
        "id": "awhxGlc-tawy"
      }
    },
    {
      "cell_type": "markdown",
      "source": [
        "В find_eigenvalues используется полный перебор: для сетки λ от 0 до max-элемента матрицы ищется изменение знака det(C−λI), а затем корень уточняется методом бисекции до заданной точности."
      ],
      "metadata": {
        "id": "EIxY2f-xszyS"
      }
    },
    {
      "cell_type": "code",
      "source": [
        "from typing import List, Tuple\n",
        "\n",
        "def find_eigenvalues(C: 'Matrix', tol: float = 1e-6) -> List[float]:\n",
        "\n",
        "    def det_lambda(matrix: 'Matrix', lam: float) -> float:\n",
        "        n = matrix.rows\n",
        "        shifted = Matrix(n, n)\n",
        "        for i in range(n):\n",
        "            for j in range(n):\n",
        "                val = matrix.GetElement(i, j)\n",
        "                if i == j:\n",
        "                    val -= lam\n",
        "                if abs(val) > 1e-12:\n",
        "                    shifted.AddElement(i, j, val)\n",
        "        det, _ = shifted.Determinant()\n",
        "        return det\n",
        "\n",
        "    # Находим грубые границы поиска по собственным значениям (спектральную норму)\n",
        "    m = C.rows\n",
        "    row_sums = [sum(abs(C.GetElement(i, j)) for j in range(m)) for i in range(m)]\n",
        "    lambda_min = -max(row_sums) - 1\n",
        "    lambda_max = max(row_sums) + 1\n",
        "\n",
        "    step = 0.5\n",
        "    found = []\n",
        "    x = lambda_min\n",
        "    while x + step <= lambda_max:\n",
        "        a = x\n",
        "        b = x + step\n",
        "        if det_lambda(C, a) * det_lambda(C, b) < 0:\n",
        "            # Бисекция\n",
        "            while abs(b - a) > tol:\n",
        "                mid = (a + b) / 2\n",
        "                f_mid = det_lambda(C, mid)\n",
        "                if f_mid == 0:\n",
        "                    a = b = mid\n",
        "                    break\n",
        "                if det_lambda(C, a) * f_mid < 0:\n",
        "                    b = mid\n",
        "                else:\n",
        "                    a = mid\n",
        "            root = (a + b) / 2\n",
        "            # Исключение близких корней\n",
        "            if all(abs(root - ev) > tol for ev in found):\n",
        "                found.append(root)\n",
        "        x += step\n",
        "\n",
        "    return sorted(found)"
      ],
      "metadata": {
        "id": "-UL3o3WXzzZZ"
      },
      "execution_count": 5,
      "outputs": []
    },
    {
      "cell_type": "markdown",
      "source": [
        "## Найти собственные векторы матрицы С"
      ],
      "metadata": {
        "id": "9oK11AZptrHb"
      }
    },
    {
      "cell_type": "code",
      "source": [
        "from typing import List\n",
        "\n",
        "def find_eigenvectors(C: 'Matrix', eigenvalues: List[float]) -> List['Matrix']:\n",
        "    vectors = []\n",
        "    m = C.rows\n",
        "\n",
        "    for lam in eigenvalues:\n",
        "        # Строим матрицу (C - λI)\n",
        "        A = Matrix(m, m)\n",
        "        for i in range(m):\n",
        "            for j in range(C.row_ptr[i], C.row_ptr[i + 1]):\n",
        "                col = C.columns[j]\n",
        "                val = C.data[j]\n",
        "                if i == col:\n",
        "                    A.AddElement(i, col, val - lam)\n",
        "                else:\n",
        "                    A.AddElement(i, col, val)\n",
        "            # если элемент на диагонали отсутствует\n",
        "            if C.GetElement(i, i) == 0:\n",
        "                A.AddElement(i, i, -lam)\n",
        "\n",
        "        # Правая часть (нулевой вектор)\n",
        "        b = Matrix(m, 1)\n",
        "\n",
        "        try:\n",
        "            solution = gauss_solver(A, b)[0]  # берём первый вектор из списка\n",
        "            normalized = Matrix.NormalizeVector(solution)\n",
        "            vectors.append(normalized)\n",
        "        except ValueError:\n",
        "            continue\n",
        "\n",
        "    return vectors\n"
      ],
      "metadata": {
        "id": "OH9_WVT5wDPV"
      },
      "execution_count": 6,
      "outputs": []
    },
    {
      "cell_type": "markdown",
      "source": [
        "## Вычислить долю объясненной дисперсии"
      ],
      "metadata": {
        "id": "pfGOHqout3iK"
      }
    },
    {
      "cell_type": "markdown",
      "source": [
        "explained_variance_ratio возвращает отношение суммы первых k собственных значений к сумме всех, показывая, какую долю информации описывают первые компоненты."
      ],
      "metadata": {
        "id": "ZLJjOzg_tWkV"
      }
    },
    {
      "cell_type": "code",
      "source": [
        "from typing import List\n",
        "\n",
        "# Вычисление доли объяснённой дисперсии\n",
        "def explained_variance_ratio(eigenvalues: List[float], k: int) -> float:\n",
        "\n",
        "    if k <= 0 or k > len(eigenvalues):\n",
        "        raise ValueError(\"Некорректное значение k\")\n",
        "\n",
        "    numerator = sum(eigenvalues[:k])\n",
        "    denominator = sum(eigenvalues)\n",
        "    if abs(denominator) < 1e-12:\n",
        "        raise ValueError(\"Сумма собственных значений равна нулю\")\n",
        "\n",
        "    return numerator / denominator\n"
      ],
      "metadata": {
        "id": "G5FzP3PowuEv"
      },
      "execution_count": 7,
      "outputs": []
    },
    {
      "cell_type": "markdown",
      "source": [
        "---\n",
        "\n",
        "# HARD LEVEL\n",
        "\n",
        "---\n",
        "\n"
      ],
      "metadata": {
        "id": "UABjgeQSuDMT"
      }
    },
    {
      "cell_type": "markdown",
      "source": [
        "## Реализовать полный алгоритм РСА"
      ],
      "metadata": {
        "id": "KXggruGsuJHq"
      }
    },
    {
      "cell_type": "markdown",
      "source": [
        "Функция pca объединяет все шаги: центрирование данных, построение ковариационной матрицы, поиск собственных значений и векторов, выбор k главных компонент, проекцию данных и вычисление объяснённой дисперсии."
      ],
      "metadata": {
        "id": "H7PJ7lT-tgZd"
      }
    },
    {
      "cell_type": "code",
      "source": [
        "from typing import Tuple\n",
        "\n",
        "def pca(X: 'Matrix', k: int) -> Tuple['Matrix', float]:\n",
        "    # 1. Центрирование данных\n",
        "    X_centered = center_data(X)\n",
        "\n",
        "    # 2. Ковариационная матрица через X^T * X\n",
        "    n = X_centered.rows\n",
        "    Xt = X_centered.Transpose()\n",
        "    C = Xt.Dot(X_centered)  # (m×n) * (n×m) = (m×m)\n",
        "    for i in range(C.rows):\n",
        "        for j in range(C.row_ptr[i], C.row_ptr[i + 1]):\n",
        "            C.data[j] /= (n - 1)\n",
        "\n",
        "    # 3. Собственные значения и векторы\n",
        "    eigenvals = find_eigenvalues(C)\n",
        "    eigvecs = find_eigenvectors(C, eigenvals)\n",
        "\n",
        "    # 4. Упорядочим по убыванию λ\n",
        "    eig_pairs = sorted(zip(eigenvals, eigvecs), key=lambda pair: -pair[0])\n",
        "    top_vectors = [Matrix.NormalizeVector(vec) for _, vec in eig_pairs[:k]]\n",
        "\n",
        "    # 5. Формируем матрицу из собственных векторов: V_k (m×k)\n",
        "    Vk = Matrix(C.cols, k)\n",
        "    for j, vec in enumerate(top_vectors):\n",
        "        for i in range(vec.rows):\n",
        "            val = vec.GetElement(i, 0)\n",
        "            if abs(val) > 1e-12:\n",
        "                Vk.AddElement(i, j, val)\n",
        "\n",
        "    # 6. Проекция данных: X_proj = X_centered * Vk (n×k)\n",
        "    X_proj = X_centered.Dot(Vk)\n",
        "\n",
        "    # 7. Доля объяснённой дисперсии\n",
        "    gamma = explained_variance_ratio(eigenvals, k)\n",
        "\n",
        "    return X_proj, gamma\n"
      ],
      "metadata": {
        "id": "qMQ38skS0pKE"
      },
      "execution_count": 8,
      "outputs": []
    },
    {
      "cell_type": "markdown",
      "source": [
        "##Визуализировать проекцию данных на первые две главные компоненты"
      ],
      "metadata": {
        "id": "r-AaPrrEuaow"
      }
    },
    {
      "cell_type": "markdown",
      "source": [
        "plot_pca_projection создаёт точечный график проекции данных на первые две главные компоненты, подписывает оси и выводит сетку."
      ],
      "metadata": {
        "id": "s_VOQrQhtm18"
      }
    },
    {
      "cell_type": "code",
      "source": [
        "from typing import List, Tuple\n",
        "from matplotlib.figure import Figure\n",
        "import matplotlib.pyplot as plt\n",
        "\n",
        "# Визуализация проекции на первые две главные компоненты\n",
        "def plot_pca_projection(X_proj: 'Matrix') -> Figure:\n",
        "    if X_proj.cols < 2:\n",
        "        raise ValueError(\"Для визуализации требуется как минимум 2 главные компоненты\")\n",
        "\n",
        "    n = X_proj.rows\n",
        "    x_vals = [X_proj.GetElement(i, 0) for i in range(n)]\n",
        "    y_vals = [X_proj.GetElement(i, 1) for i in range(n)]\n",
        "\n",
        "    fig, ax = plt.subplots()\n",
        "    ax.scatter(x_vals, y_vals, c='blue', edgecolors='k')\n",
        "    ax.set_xlabel('PC1')\n",
        "    ax.set_ylabel('PC2')\n",
        "    ax.set_title('PCA')\n",
        "    ax.grid(True)\n",
        "\n",
        "    return fig\n"
      ],
      "metadata": {
        "id": "wlUMX_8tuqlS"
      },
      "execution_count": 9,
      "outputs": []
    },
    {
      "cell_type": "markdown",
      "source": [
        "## Вычислить среднеквадратическую ошибку восстановления данных"
      ],
      "metadata": {
        "id": "3EO2ci8ZutsR"
      }
    },
    {
      "cell_type": "markdown",
      "source": [
        "reconstruction_error считает MSE между элементами исходной и восстановленной матриц"
      ],
      "metadata": {
        "id": "jD8FhT9pts9Y"
      }
    },
    {
      "cell_type": "code",
      "source": [
        "from typing import List, Tuple\n",
        "\n",
        "# Вычисление среднеквадратической ошибки восстановления данных\n",
        "def reconstruction_error(X_orig: 'Matrix', X_recon: 'Matrix') -> float:\n",
        "\n",
        "    if X_orig.rows != X_recon.rows or X_orig.cols != X_recon.cols:\n",
        "        raise ValueError(\"Размеры матриц не совпадают\")\n",
        "\n",
        "    n, m = X_orig.rows, X_orig.cols\n",
        "    total = 0.0\n",
        "\n",
        "    for i in range(n):\n",
        "        for j in range(m):\n",
        "            x = X_orig.GetElement(i, j)\n",
        "            y = X_recon.GetElement(i, j)\n",
        "            total += (x - y) ** 2\n",
        "\n",
        "    return total / (n * m)"
      ],
      "metadata": {
        "id": "dqrahFMW01Jm"
      },
      "execution_count": 10,
      "outputs": []
    },
    {
      "cell_type": "markdown",
      "source": [
        "---\n",
        "# EXPERT LEVEL\n",
        "---"
      ],
      "metadata": {
        "id": "Ui_KygwAbqRn"
      }
    },
    {
      "cell_type": "markdown",
      "source": [
        "##Добавить автоматический выбор числа главных компонент на основе порога объясненной дисперсии"
      ],
      "metadata": {
        "id": "9P-Ph2lKcE_w"
      }
    },
    {
      "cell_type": "markdown",
      "source": [
        "auto_select_k выбирает минимальное число компонент, при котором кумулятивная доля объяснённой дисперсии достигает заданного порога (по умолчанию 95 %)."
      ],
      "metadata": {
        "id": "naj7FTaxtyjs"
      }
    },
    {
      "cell_type": "code",
      "source": [
        "from typing import List, Tuple\n",
        "\n",
        "# Автоматический выбор числа главных компонент по порогу объяснённой дисперсии\n",
        "def auto_select_k(eigenvalues: List[float], threshold: float = 0.95) -> int:\n",
        "\n",
        "    total = sum(eigenvalues)\n",
        "    if total == 0:\n",
        "        return 0\n",
        "\n",
        "    cumulative = 0.0\n",
        "    for i, val in enumerate(eigenvalues):\n",
        "        cumulative += val\n",
        "        if cumulative / total >= threshold:\n",
        "            return i + 1\n",
        "\n",
        "    return len(eigenvalues)"
      ],
      "metadata": {
        "id": "3dSxVklrcvja"
      },
      "execution_count": 11,
      "outputs": []
    },
    {
      "cell_type": "markdown",
      "source": [
        "## Обработать пропущенные значения в данных"
      ],
      "metadata": {
        "id": "Ar1Txm4YcwPu"
      }
    },
    {
      "cell_type": "markdown",
      "source": [
        "handle_missing_values заменяет пропуски (NaN) в каждом столбце на среднее значение этого столбца, сохраняя остальные элементы без изменений."
      ],
      "metadata": {
        "id": "7cd7tXi2t4uN"
      }
    },
    {
      "cell_type": "code",
      "source": [
        "from typing import List, Tuple\n",
        "\n",
        "# Обработка пропущенных значений в матрице (NaN заменяются средним по столбцу)\n",
        "def handle_missing_values(X: 'Matrix') -> 'Matrix':\n",
        "\n",
        "    import math\n",
        "\n",
        "    n, m = X.rows, X.cols\n",
        "    filled = Matrix(n, m)\n",
        "\n",
        "    column_sums = [0.0] * m\n",
        "    counts = [0] * m\n",
        "\n",
        "    for i in range(n):\n",
        "        for j in range(m):\n",
        "            val = X.GetElement(i, j)\n",
        "            if not isinstance(val, float) or not math.isnan(val):\n",
        "                column_sums[j] += val\n",
        "                counts[j] += 1\n",
        "\n",
        "    means = [column_sums[j] / counts[j] if counts[j] > 0 else 0.0 for j in range(m)]\n",
        "\n",
        "    for i in range(n):\n",
        "        for j in range(m):\n",
        "            val = X.GetElement(i, j)\n",
        "            if isinstance(val, float) and math.isnan(val):\n",
        "                filled.AddElement(i, j, means[j])\n",
        "            elif val != 0:\n",
        "                filled.AddElement(i, j, val)\n",
        "\n",
        "    return filled\n"
      ],
      "metadata": {
        "id": "9AO-Uyssc9PO"
      },
      "execution_count": 12,
      "outputs": []
    },
    {
      "cell_type": "markdown",
      "source": [
        "## Исследовать влиянение шума на РСА"
      ],
      "metadata": {
        "id": "t1t5k_4Oc-5e"
      }
    },
    {
      "cell_type": "markdown",
      "source": [
        "add_noise_and_compare добавляет гауссов шум к данным и выводит сравнение объяснённой дисперсии PCA на двух главных компонентах до и после зашумления."
      ],
      "metadata": {
        "id": "xbZqeKgCt-NQ"
      }
    },
    {
      "cell_type": "code",
      "source": [
        "from typing import List, Tuple\n",
        "import random\n",
        "import math\n",
        "\n",
        "# Исследование влияния шума на PCA\n",
        "def add_noise_and_compare(X: 'Matrix', noise_level: float = 0.1):\n",
        "\n",
        "    n, m = X.rows, X.cols\n",
        "\n",
        "    # Вычисляем стандартное отклонение\n",
        "    values = []\n",
        "    for i in range(n):\n",
        "        for j in range(m):\n",
        "            val = X.GetElement(i, j)\n",
        "            values.append(val)\n",
        "    mean_val = sum(values) / len(values)\n",
        "    std_val = math.sqrt(sum((v - mean_val) ** 2 for v in values) / len(values))\n",
        "\n",
        "    # Создание копии матрицы с шумом\n",
        "    X_noisy = Matrix(n, m)\n",
        "    for i in range(n):\n",
        "        for j in range(m):\n",
        "            val = X.GetElement(i, j)\n",
        "            noise = random.gauss(0, std_val * noise_level)\n",
        "            noisy_val = val + noise\n",
        "            if abs(noisy_val) > 1e-12:\n",
        "                X_noisy.AddElement(i, j, noisy_val)\n",
        "\n",
        "    # Применим PCA до и после\n",
        "    k = 2\n",
        "    X_proj_clean, var_clean = pca(X, k)\n",
        "    X_proj_noisy, var_noisy = pca(X_noisy, k)\n",
        "\n",
        "    print(\"PCA до добавления шума: \", round(var_clean, 4))\n",
        "    print(\"PCA после добавления шума: \", round(var_noisy, 4))"
      ],
      "metadata": {
        "id": "YgpuXyCtdG0Q"
      },
      "execution_count": 13,
      "outputs": []
    },
    {
      "cell_type": "markdown",
      "source": [
        "## Применить РСА к реальному датасету"
      ],
      "metadata": {
        "id": "12CvEOIjdHWD"
      }
    },
    {
      "cell_type": "markdown",
      "source": [
        "apply_pca_to_dataset загружает данные, строит разреженную матрицу, выполняет PCA и возвращает результат проекции и explained variance ratio.\n",
        "\n",
        "\n"
      ],
      "metadata": {
        "id": "CoKjQXuVuEh7"
      }
    },
    {
      "cell_type": "code",
      "source": [
        "from typing import List, Tuple\n",
        "from sklearn.datasets import load_iris, load_wine, load_digits\n",
        "\n",
        "def load_dataset(name: str) -> List[List[float]]:\n",
        "\n",
        "    name = name.lower()\n",
        "    if name == 'iris':\n",
        "        data = load_iris()\n",
        "    elif name == 'wine':\n",
        "        data = load_wine()\n",
        "    elif name == 'digits':\n",
        "        data = load_digits()\n",
        "    else:\n",
        "        raise ValueError(f\"неизвестный датасет: {name!r}.\")\n",
        "    return data.data.tolist()\n",
        "\n",
        "def apply_pca_to_dataset(dataset_name: str, k: int) -> Tuple['Matrix', float]:\n",
        "\n",
        "    # Загрузка и перевод в Matrix\n",
        "    raw = load_dataset(dataset_name)\n",
        "    n = len(raw); m = len(raw[0])\n",
        "    X = Matrix(n, m)\n",
        "    for i in range(n):\n",
        "        for j in range(m):\n",
        "            X.AddElement(i, j, float(raw[i][j]))\n",
        "\n",
        "    # Обработка пропусков и центровка\n",
        "    X = handle_missing_values(X)          # заполняет NaN средним по столбцу\n",
        "    # вычисляем средние до центровки\n",
        "    dense_orig = X.ToRegularMatrix()\n",
        "    means = [ sum(dense_orig[i][j] for i in range(n)) / n for j in range(m) ]\n",
        "    Xc = center_data(X)                   # центрированная матрица\n",
        "\n",
        "\n",
        "    C = covariance_matrix(Xc)\n",
        "    eigvals = find_eigenvalues(C)\n",
        "    eigvecs = find_eigenvectors(C, eigvals)  # список Matrix\n",
        "\n",
        "    # Выбираем топ-k по убыванию λ и собираем Vk\n",
        "    idx_sorted = sorted(range(len(eigvals)), key=lambda i: eigvals[i], reverse=True)\n",
        "    topk = idx_sorted[:k]\n",
        "    Vk = Matrix(m, k)\n",
        "    for col, eig_i in enumerate(topk):\n",
        "        v = eigvecs[eig_i]\n",
        "        for row in range(m):\n",
        "            Vk.AddElement(row, col, v.GetElement(row, 0))\n",
        "\n",
        "    # Проекция и восстановление\n",
        "    X_proj = Xc.Dot(Vk)\n",
        "    Xc_recon = X_proj.Dot(Vk.Transpose())\n",
        "    dense_recon = Xc_recon.ToRegularMatrix()\n",
        "    # добавляем обратно means\n",
        "    recon = [ [ dense_recon[i][j] + means[j]\n",
        "                for j in range(m) ]\n",
        "              for i in range(n) ]\n",
        "\n",
        "    mse = sum( (raw[i][j] - recon[i][j])**2\n",
        "               for i in range(n) for j in range(m) ) / (n*m)\n",
        "\n",
        "    return X_proj, mse\n"
      ],
      "metadata": {
        "id": "oI9n8n3odOdU"
      },
      "execution_count": null,
      "outputs": []
    }
  ]
}