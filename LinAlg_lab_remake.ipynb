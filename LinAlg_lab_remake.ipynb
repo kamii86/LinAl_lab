{
  "nbformat": 4,
  "nbformat_minor": 0,
  "metadata": {
    "colab": {
      "provenance": []
    },
    "kernelspec": {
      "name": "python3",
      "display_name": "Python 3"
    },
    "language_info": {
      "name": "python"
    }
  },
  "cells": [
    {
      "cell_type": "markdown",
      "source": [
        "# Класс Matrix (из предыдущей лабораторной работы)"
      ],
      "metadata": {
        "id": "ov7K9xU6DfbD"
      }
    },
    {
      "cell_type": "markdown",
      "source": [
        "Создан класс разреженной матрицы Matrix.\n",
        "* В конструкторе задаются размеры и структуры хранения.\n",
        "* Метод AddElement добавляет ненулевой элемент в разреженную структуру.\n",
        "* GetElement и ToRegularMatrix обеспечивают доступ к полному виду матрицы.\n",
        "* Transpose и Dot выполняют транспонирование и умножение матриц.\n",
        "* NormalizeVector нормализует вектор по L2-норме.\n",
        "* Determinant вычисляет определитель через модифицированный метод Гаусса."
      ],
      "metadata": {
        "id": "jhGsiVf5UCIz"
      }
    },
    {
      "cell_type": "code",
      "source": [
        "import copy\n",
        "from typing import List\n",
        "\n",
        "class Matrix:\n",
        "    def __init__(self, rows: int, cols: int):\n",
        "        self.rows = rows\n",
        "        self.cols = cols\n",
        "        self.data = list()\n",
        "        self.columns = list()\n",
        "        self.row_ptr = [0]\n",
        "\n",
        "# добавляем ненулевое значение в нужную ячейку\n",
        "    def AddElement(self,row: int,col: int, value : float):\n",
        "        if (row >= self.rows or col >= self.cols): #Проверка границ строки и столбца\n",
        "            assert False\n",
        "        #Поддержка корректной длины row_ptr\n",
        "        while(len(self.row_ptr) != (row + 2)):\n",
        "            self.row_ptr.append(self.row_ptr[len(self.row_ptr) - 1])\n",
        "        #Добавление ненулевых элементов\n",
        "        if (value != 0):\n",
        "            self.data.append(value)\n",
        "            self.columns.append(col)\n",
        "            self.row_ptr[row+1] += 1\n",
        "\n",
        "    def GetElement(self,row: int,col: int):\n",
        "        #Проверка границ строки и столбца\n",
        "        if (row >= self.rows or col >= self.cols):\n",
        "            assert False\n",
        "        start = self.row_ptr[row]\n",
        "        end = self.row_ptr[row +1]\n",
        "        #Поиск запрашиваемого элемента\n",
        "        for i in range(start,end):\n",
        "            if (self.columns[i] == col):\n",
        "                value = self.data[i]\n",
        "                if (int(value) == value):\n",
        "                    return int(value)\n",
        "                return value\n",
        "        #Если элемент не найден\n",
        "        return 0\n",
        "\n",
        "    @staticmethod\n",
        "    def from_csr(rows: int, cols: int, data: list, columns: list, row_ptr: list) -> 'Matrix':\n",
        "        mat = Matrix(rows, cols)\n",
        "        mat.data = data\n",
        "        mat.columns = columns\n",
        "        mat.row_ptr = row_ptr\n",
        "        return mat\n",
        "\n",
        "    @staticmethod\n",
        "    def from_list(data: List[List[float]]) -> 'Matrix':\n",
        "        rows, cols = len(data), len(data[0])\n",
        "        mat = Matrix(rows, cols)\n",
        "        for r in range(rows):\n",
        "            for c in range(cols):\n",
        "                mat.AddElement(r, c, data[r][c])\n",
        "        return mat\n",
        "\n",
        "\n",
        "    def Transpose(self) -> 'Matrix':\n",
        "        result = Matrix(self.cols, self.rows)  # Меняем местами строки и столбцы\n",
        "\n",
        "        for i in range(self.rows):\n",
        "            for idx in range(self.row_ptr[i], self.row_ptr[i + 1]):\n",
        "                col = self.columns[idx]\n",
        "                val = self.data[idx]\n",
        "                result.AddElement(col, i, val)\n",
        "\n",
        "        return result\n",
        "\n",
        "\n",
        "    def swap_rows_(self,data,col,row_ptr, row1, row2):\n",
        "\n",
        "        row1_start, row1_end = row_ptr[row1], row_ptr[row1 + 1]\n",
        "        row2_start, row2_end = row_ptr[row2], row_ptr[row2 + 1]\n",
        "\n",
        "        row1_data = data[row1_start:row1_end]\n",
        "        row1_col = col[row1_start:row1_end]\n",
        "        row2_data = data[row2_start:row2_end]\n",
        "        row2_col = col[row2_start:row2_end]\n",
        "\n",
        "        new_data = []\n",
        "        new_indices = []\n",
        "        new_row_ptr = [0]\n",
        "\n",
        "        # перебираем все строки\n",
        "        for i in range(self.rows):\n",
        "            if i == row1:\n",
        "                new_data.extend(row2_data)\n",
        "                new_indices.extend(row2_col)\n",
        "            elif i == row2:\n",
        "                new_data.extend(row1_data)\n",
        "                new_indices.extend(row1_col)\n",
        "            else:\n",
        "                start, end = row_ptr[i], row_ptr[i + 1]\n",
        "                new_data.extend(data[start:end])\n",
        "                new_indices.extend(col[start:end])\n",
        "\n",
        "\n",
        "            new_row_ptr.append(len(new_data))\n",
        "        return new_data,new_indices,new_row_ptr\n",
        "\n",
        "\n",
        "    def ToRegularMatrix(self):\n",
        "        matrix = [[0] * self.cols for _ in range(self.rows)]\n",
        "        for i in range(self.rows):\n",
        "\n",
        "            start = self.row_ptr[i]\n",
        "            end = self.row_ptr[i + 1]\n",
        "            for j in range(start, end):\n",
        "                matrix[i][self.columns[j]] = self.data[j]\n",
        "        return matrix\n",
        "\n",
        "    # транспонирование\n",
        "    def Transpose(self) -> 'Matrix':\n",
        "        result = Matrix(self.cols, self.rows)\n",
        "        for i in range(self.rows):\n",
        "            for j in range(self.row_ptr[i], self.row_ptr[i + 1]):\n",
        "                col = self.columns[j]\n",
        "                val = self.data[j]\n",
        "                result.AddElement(col, i, val)\n",
        "        return result\n",
        "\n",
        "    #умножение матриц\n",
        "    def Dot(self, other: 'Matrix') -> 'Matrix':\n",
        "        if self.cols != other.rows:\n",
        "            raise ValueError(\"Несовместимые размеры для умножения\")\n",
        "        result = Matrix(self.rows, other.cols)\n",
        "        B = other.ToRegularMatrix()\n",
        "        for i in range(self.rows):\n",
        "            row_vec = [0] * self.cols\n",
        "            for j in range(self.row_ptr[i], self.row_ptr[i + 1]):\n",
        "                row_vec[self.columns[j]] = self.data[j]\n",
        "            for col in range(other.cols):\n",
        "                dot = sum(row_vec[k] * B[k][col] for k in range(self.cols))\n",
        "                if abs(dot) > 1e-12:\n",
        "                    result.AddElement(i, col, dot)\n",
        "        return result\n",
        "\n",
        "    # нормализация вектора\n",
        "    def NormalizeVector(vec: 'Matrix') -> 'Matrix':\n",
        "        norm = math.sqrt(sum(vec.GetElement(i, 0)**2 for i in range(vec.rows)))\n",
        "        if norm == 0:\n",
        "            return vec\n",
        "        result = Matrix(vec.rows, 1)\n",
        "        for i in range(vec.rows):\n",
        "            result.AddElement(i, 0, vec.GetElement(i, 0) / norm)\n",
        "        return result\n",
        "\n",
        "    def Determinant(self):\n",
        "        if self.rows != self.cols:\n",
        "            raise ValueError(\"Матрица должна быть квадратной\")\n",
        "\n",
        "        n = self.rows\n",
        "        diag = [0] * n  # Диагональные элементы\n",
        "\n",
        "\n",
        "        # Копируем исходные данные для изменения\n",
        "        tmp_data = self.data[:]\n",
        "        tmp_columns = self.columns[:]\n",
        "        tmp_row_ptr = self.row_ptr[:]\n",
        "\n",
        "\n",
        "        sign = 1\n",
        "\n",
        "\n",
        "        for i in range(n):\n",
        "            # Поиск диагонального элемента\n",
        "            diag_elem = None\n",
        "            for idx in range(tmp_row_ptr[i], tmp_row_ptr[i + 1]):\n",
        "                if tmp_columns[idx] == i:\n",
        "                    diag_elem = tmp_data[idx]\n",
        "                    break\n",
        "\n",
        "            if diag_elem is None or diag_elem == 0:\n",
        "                swapped = False\n",
        "                for j in range(i + 1, n):\n",
        "                    for idx in range(tmp_row_ptr[j], tmp_row_ptr[j + 1]):\n",
        "                        if tmp_columns[idx] == i and tmp_data[idx] != 0:\n",
        "                            # Меняем строки i и j\n",
        "                            tmp_data,tmp_columns,tmp_row_ptr = self.swap_rows_(tmp_data,tmp_columns,tmp_row_ptr,i,j)\n",
        "                            swapped = True\n",
        "                            sign *= -1  # Меняем знак\n",
        "                            break\n",
        "                    if swapped:\n",
        "                        break\n",
        "                if not swapped:\n",
        "                    return 0,\"нет\"\n",
        "\n",
        "                for idx in range(tmp_row_ptr[i], tmp_row_ptr[i + 1]):\n",
        "                    if tmp_columns[idx] == i:\n",
        "                        diag_elem = tmp_data[idx]\n",
        "                        break\n",
        "\n",
        "\n",
        "            diag[i] = diag_elem\n",
        "\n",
        "\n",
        "            for idx in range(tmp_row_ptr[i], tmp_row_ptr[i + 1]):\n",
        "                tmp_data[idx] /= diag_elem\n",
        "\n",
        "            # Вычитаем строку i из всех последующих строк\n",
        "            for j in range(i + 1, n):\n",
        "                factor = None\n",
        "                for idx in range(tmp_row_ptr[j], tmp_row_ptr[j + 1]):\n",
        "                    if tmp_columns[idx] == i:\n",
        "                        factor = tmp_data[idx]\n",
        "                        tmp_data[idx] = 0\n",
        "                        break\n",
        "\n",
        "                if factor is not None:\n",
        "                    # Вычитаем строки с учетом коэффициента\n",
        "                    for idx in range(tmp_row_ptr[i], tmp_row_ptr[i + 1]):\n",
        "                        col = tmp_columns[idx]\n",
        "                        value = tmp_data[idx]\n",
        "                        for k in range(tmp_row_ptr[j], tmp_row_ptr[j + 1]):\n",
        "                            if tmp_columns[k] == tmp_columns[idx]:\n",
        "                                tmp_data[k] -= factor * value\n",
        "                                break\n",
        "                        else:\n",
        "                            # Элемент не найден\n",
        "                            start = tmp_row_ptr[j]\n",
        "                            end = tmp_row_ptr[j + 1]\n",
        "\n",
        "                            # Поиск позиции\n",
        "                            insert_pos = start\n",
        "                            while insert_pos < end and tmp_columns[insert_pos] < col:\n",
        "                                insert_pos += 1\n",
        "\n",
        "                            # Вставляем новый элемент\n",
        "                            tmp_data.insert(insert_pos, -factor * value)\n",
        "                            tmp_columns.insert(insert_pos, col)\n",
        "\n",
        "                            # Обновляем row_ptr\n",
        "                            for k in range(j + 1, len(tmp_row_ptr)):\n",
        "                                tmp_row_ptr[k] += 1\n",
        "\n",
        "        det = sign\n",
        "        for i in diag:\n",
        "            det *= i\n",
        "\n",
        "        return det\n"
      ],
      "metadata": {
        "id": "zfSGcVeGDxP8"
      },
      "execution_count": 40,
      "outputs": []
    },
    {
      "cell_type": "markdown",
      "source": [
        "---\n",
        "\n",
        "# EASY LEVEL\n",
        "\n",
        "---\n",
        "\n"
      ],
      "metadata": {
        "id": "43fNwoscsPzQ"
      }
    },
    {
      "cell_type": "markdown",
      "source": [
        "## Реализовать метод Гаусса для решения СЛАУ"
      ],
      "metadata": {
        "id": "m4syiBtAsBJP"
      }
    },
    {
      "cell_type": "markdown",
      "source": [
        "* В приведенной реализации мы сначала\n",
        "копируем матрицу A и вектор b, чтобы не менять их напрямую.\n",
        "* Затем выполняется прямой ход: для каждого столбца выбираем максимальный по модулю элемент в качестве опорного (для численной устойчивости и чтобы избежать деления на ноль), при необходимости меняем строки.\n",
        "* Далее опорную строку масштабируем так, чтобы опорный элемент стал равен 1, и с её помощью зануляем элементы ниже в том же столбце.\n",
        "* После окончания прямого хода матрица превращается в верхнюю треугольную (в M выше главной диагонали содержатся коэффициенты, ниже – нули).\n",
        "* Затем выполняется обратный ход: начиная с последней строки, рассчитываем значения неизвестных с учётом уже найденных на предыдущих шагах.\n",
        "* Функция возвращает список базисных векторов решения системы."
      ],
      "metadata": {
        "id": "fm-hLD7efqWi"
      }
    },
    {
      "cell_type": "code",
      "execution_count": 30,
      "metadata": {
        "id": "j3KYFad_o_kj"
      },
      "outputs": [],
      "source": [
        "from typing import List\n",
        "\n",
        "def gauss_solver(A: 'Matrix', b: 'Matrix') -> List['Matrix']:\n",
        "\n",
        "    # Проверка размерности матриц\n",
        "    if A.rows != A.cols:\n",
        "        raise ValueError(\"Матрица A должна быть квадратной\")\n",
        "    if A.rows != b.rows or b.cols != 1:\n",
        "        raise ValueError(\"Несовместимые размеры матриц A и b\")\n",
        "\n",
        "    n = A.rows\n",
        "\n",
        "    # Преобразуем матрицы к плотному виду\n",
        "    dense_A = A.ToRegularMatrix()\n",
        "    dense_b = [row[0] for row in b.ToRegularMatrix()]\n",
        "\n",
        "    # Создаем расширенную матрицу [A|b]\n",
        "    aug = [row.copy() + [dense_b[i]] for i, row in enumerate(dense_A)]\n",
        "\n",
        "    # Прямой ход метода Гаусса\n",
        "    for col in range(n):\n",
        "        # Выбор главного элемента (для устойчивости)\n",
        "        max_row = max(range(col, n), key=lambda r: abs(aug[r][col]))\n",
        "        aug[col], aug[max_row] = aug[max_row], aug[col]\n",
        "\n",
        "        # Проверка на вырожденность\n",
        "        if abs(aug[col][col]) < 1e-10:\n",
        "            # Проверяем на несовместность\n",
        "            if abs(aug[col][-1]) > 1e-10:\n",
        "                raise ValueError(\"Система несовместна\")\n",
        "            continue\n",
        "\n",
        "        # Нормализация текущей строки\n",
        "        pivot = aug[col][col]\n",
        "        aug[col] = [x / pivot for x in aug[col]]\n",
        "\n",
        "        # Обнуление элементов ниже\n",
        "        for row in range(col + 1, n):\n",
        "            factor = aug[row][col]\n",
        "            aug[row] = [a - factor * b for a, b in zip(aug[row], aug[col])]\n",
        "\n",
        "    # Обратный ход\n",
        "    solution = [0.0] * n\n",
        "    for row in reversed(range(n)):\n",
        "        # Ищем первый ненулевой элемент в строке\n",
        "        pivot_col = next((c for c in range(n) if abs(aug[row][c]) > 1e-10), None)\n",
        "\n",
        "        if pivot_col is not None:\n",
        "            solution[pivot_col] = aug[row][-1]\n",
        "            for c in range(pivot_col + 1, n):\n",
        "                solution[pivot_col] -= aug[row][c] * solution[c]\n",
        "\n",
        "    # Создаем объект Matrix для решения\n",
        "    result = Matrix(n, 1)\n",
        "    for i in range(n):\n",
        "        val = solution[i]\n",
        "        if abs(val - round(val)) < 1e-10:\n",
        "            val = round(val)  # округление почти целых значений\n",
        "        result.AddElement(i, 0, val)\n",
        "\n",
        "    return [result]"
      ]
    },
    {
      "cell_type": "code",
      "source": [
        "A = Matrix(3, 3)\n",
        "A.AddElement(0, 0, 2)\n",
        "A.AddElement(0, 1, 1)\n",
        "A.AddElement(0, 2, -1)\n",
        "A.AddElement(1, 0, -3)\n",
        "A.AddElement(1, 1, -1)\n",
        "A.AddElement(1, 2, 2)\n",
        "A.AddElement(2, 0, -2)\n",
        "A.AddElement(2, 1, 1)\n",
        "A.AddElement(2, 2, 2)\n",
        "\n",
        "b = Matrix(3, 1)\n",
        "b.AddElement(0, 0, 8)\n",
        "b.AddElement(1, 0, -11)\n",
        "b.AddElement(2, 0, -3)\n",
        "\n",
        "# Вызов твоей функции\n",
        "sol = gauss_solver(A, b)\n",
        "\n",
        "# Печать результата\n",
        "for i in range(sol[0].rows):\n",
        "    print(f\"x{i} = {sol[0].GetElement(i, 0)}\")"
      ],
      "metadata": {
        "colab": {
          "base_uri": "https://localhost:8080/"
        },
        "id": "UumRpBRAsbf8",
        "outputId": "916b1195-14ca-43b0-fa9f-486a44ada607"
      },
      "execution_count": 16,
      "outputs": [
        {
          "output_type": "stream",
          "name": "stdout",
          "text": [
            "x0 = 2\n",
            "x1 = 3\n",
            "x2 = -1\n"
          ]
        }
      ]
    },
    {
      "cell_type": "markdown",
      "source": [
        "## Реализовать функцию центрирования данных"
      ],
      "metadata": {
        "id": "XhwaBh_8ssL3"
      }
    },
    {
      "cell_type": "markdown",
      "source": [
        "Функция center_data центрирует данные: для каждой колонки вычисляет её среднее и вычитает его из каждого элемента, делая среднее равным нулю."
      ],
      "metadata": {
        "id": "KY-DNJ_2sdsz"
      }
    },
    {
      "cell_type": "code",
      "source": [
        "def center_data(X: 'Matrix') -> 'Matrix':\n",
        "\n",
        "    # Получаем размеры матрицы\n",
        "    n = X.rows\n",
        "    m = X.cols\n",
        "\n",
        "    # Создаем новую матрицу для результата\n",
        "    X_centered = Matrix(n, m)\n",
        "\n",
        "    # Вычисляем средние значения по каждому столбцу\n",
        "    means = [0.0] * m\n",
        "    for col in range(m):\n",
        "        # Суммируем элементы столбца\n",
        "        col_sum = 0.0\n",
        "        for row in range(n):\n",
        "            col_sum += X.GetElement(row, col)\n",
        "        # Вычисляем среднее\n",
        "        means[col] = col_sum / n\n",
        "\n",
        "    # Центрируем данные\n",
        "    for row in range(n):\n",
        "        for col in range(m):\n",
        "            # Вычитаем среднее значение столбца из каждого элемента\n",
        "            centered_value = X.GetElement(row, col) - means[col]\n",
        "            X_centered.AddElement(row, col, centered_value)\n",
        "\n",
        "    return X_centered"
      ],
      "metadata": {
        "id": "Q5A_v86YtFn_"
      },
      "execution_count": 17,
      "outputs": []
    },
    {
      "cell_type": "code",
      "source": [
        "def print_matrix(M: 'Matrix'):\n",
        "    for i in range(M.rows):\n",
        "        row = []\n",
        "        for j in range(M.cols):\n",
        "            row.append(round(M.GetElement(i, j), 2))\n",
        "        print(row)\n",
        "\n",
        "X = Matrix(3, 2)\n",
        "X.AddElement(0, 0, 1)\n",
        "X.AddElement(0, 1, 2)\n",
        "X.AddElement(1, 0, 3)\n",
        "X.AddElement(1, 1, 4)\n",
        "X.AddElement(2, 0, 5)\n",
        "X.AddElement(2, 1, 6)\n",
        "\n",
        "print(\"Исходная матрица X:\")\n",
        "print_matrix(X)\n",
        "\n",
        "X_c = center_data(X)\n",
        "\n",
        "print(\"\\nЦентрированная матрица:\")\n",
        "print_matrix(X_c)"
      ],
      "metadata": {
        "colab": {
          "base_uri": "https://localhost:8080/"
        },
        "id": "8hipIi6YxFQt",
        "outputId": "c1db1ba7-d784-437e-a10a-388291297b04"
      },
      "execution_count": 19,
      "outputs": [
        {
          "output_type": "stream",
          "name": "stdout",
          "text": [
            "Исходная матрица X:\n",
            "[1, 2]\n",
            "[3, 4]\n",
            "[5, 6]\n",
            "\n",
            "Центрированная матрица:\n",
            "[-2, -2]\n",
            "[0, 0]\n",
            "[2, 2]\n"
          ]
        }
      ]
    },
    {
      "cell_type": "markdown",
      "source": [
        "##Вычислить матрицу ковариаций"
      ],
      "metadata": {
        "id": "4U8h_iXXtGw4"
      }
    },
    {
      "cell_type": "markdown",
      "source": [
        "covariance_matrix строит выборочную ковариационную матрицу центрированных данных: перемножает транспонированную матрицу на саму себя, делит на\n",
        "n−1 и сохраняет симметричный разреженный результат."
      ],
      "metadata": {
        "id": "I7pshaZtsk48"
      }
    },
    {
      "cell_type": "code",
      "source": [
        "# Реализация функции вычисления ковариационной матрицы\n",
        "def covariance_matrix(X_centered: 'Matrix') -> 'Matrix':\n",
        "\n",
        "    n, m = X_centered.rows, X_centered.cols\n",
        "    result = Matrix(m, m)\n",
        "\n",
        "    # Словарь для ускоренного доступа: col -> {row: value}\n",
        "    columns_data = [dict() for _ in range(m)]\n",
        "    for i in range(n):\n",
        "        for j in range(X_centered.row_ptr[i], X_centered.row_ptr[i + 1]):\n",
        "            col = X_centered.columns[j]\n",
        "            val = X_centered.data[j]\n",
        "            columns_data[col][i] = val\n",
        "\n",
        "    for i in range(m):\n",
        "        for j in range(i, m):\n",
        "            total = 0.0\n",
        "            # Перемножаем столбцы i и j\n",
        "            common_rows = set(columns_data[i].keys()) & set(columns_data[j].keys())\n",
        "            for row in common_rows:\n",
        "                total += columns_data[i][row] * columns_data[j][row]\n",
        "            cov = total / (n - 1)\n",
        "            if abs(cov) > 1e-12:\n",
        "                result.AddElement(i, j, cov)\n",
        "                if i != j:\n",
        "                    result.AddElement(j, i, cov)  # симметрия\n",
        "\n",
        "    return result\n"
      ],
      "metadata": {
        "id": "PMUCwJ0avJ74"
      },
      "execution_count": 20,
      "outputs": []
    },
    {
      "cell_type": "code",
      "source": [
        "def print_dense_matrix(M: Matrix):\n",
        "    dense = M.ToRegularMatrix()\n",
        "    for row in dense:\n",
        "        print([\"{:.2f}\".format(x) for x in row])\n",
        "\n",
        "Xc = Matrix(3, 2)\n",
        "Xc.AddElement(0, 0, -2)\n",
        "Xc.AddElement(0, 1, -2)\n",
        "Xc.AddElement(1, 0, 0)\n",
        "Xc.AddElement(1, 1, 0)\n",
        "Xc.AddElement(2, 0, 2)\n",
        "Xc.AddElement(2, 1, 2)\n",
        "\n",
        "C = covariance_matrix(Xc)\n",
        "\n",
        "print(\"Ковариационная матрица:\")\n",
        "print_dense_matrix(C)"
      ],
      "metadata": {
        "colab": {
          "base_uri": "https://localhost:8080/"
        },
        "id": "XBfbiu4b1RjV",
        "outputId": "5d769166-ceb8-456e-9e59-c0de40fb7cc7"
      },
      "execution_count": 21,
      "outputs": [
        {
          "output_type": "stream",
          "name": "stdout",
          "text": [
            "Ковариационная матрица:\n",
            "['4.00', '4.00']\n",
            "['4.00', '4.00']\n"
          ]
        }
      ]
    },
    {
      "cell_type": "markdown",
      "source": [
        "---\n",
        "\n",
        "# NORMAL LEVEL\n",
        "\n",
        "---\n",
        "\n"
      ],
      "metadata": {
        "id": "E8C-ytxytSgH"
      }
    },
    {
      "cell_type": "markdown",
      "source": [
        "## Найти собственные значения матрицы С методом бисекции"
      ],
      "metadata": {
        "id": "awhxGlc-tawy"
      }
    },
    {
      "cell_type": "markdown",
      "source": [
        "В find_eigenvalues используется полный перебор: для сетки λ от 0 до max-элемента матрицы ищется изменение знака det(C−λI), а затем корень уточняется методом бисекции до заданной точности."
      ],
      "metadata": {
        "id": "EIxY2f-xszyS"
      }
    },
    {
      "cell_type": "code",
      "source": [
        "def det_and_rank(C: Matrix, lam: float) -> (float, int):\n",
        "    # вычисляет детерминант det(C - lam*I) и ранг этой матрицы\n",
        "    m = C.rows\n",
        "    # скопируем матрицу в формат списков словарей для модификации\n",
        "    rows = [dict() for _ in range(m)]\n",
        "    for i in range(m):\n",
        "        for idx in range(C.row_ptr[i], C.row_ptr[i+1]):\n",
        "            j = C.columns[idx]\n",
        "            rows[i][j] = C.data[idx]\n",
        "    # вычитаем lam по диагонали\n",
        "    for i in range(m):\n",
        "        rows[i][i] = rows[i].get(i, 0.0) - lam\n",
        "        if abs(rows[i][i]) < 1e-12:\n",
        "            rows[i][i] = 0.0  # для стабильности при очень малых значениях\n",
        "    sign = 1    # знак детерминанта\n",
        "    det_prod = 1.0\n",
        "    rank = 0\n",
        "    for i in range(m):\n",
        "        # Поиск опорного элемента в столбце i начиная с i-й строки\n",
        "        pivot_idx = None\n",
        "        for k in range(i, m):\n",
        "            if rows[k].get(i, 0) != 0:\n",
        "                pivot_idx = k\n",
        "                break\n",
        "        if pivot_idx is None:\n",
        "            continue  # столбец i нулевой -> собственное значение (0 детерминант)\n",
        "        if pivot_idx != i:\n",
        "            rows[i], rows[pivot_idx] = rows[pivot_idx], rows[i]\n",
        "            sign *= -1\n",
        "        pivot = rows[i].get(i, 0)\n",
        "        if pivot == 0:\n",
        "            # на диагонали ноль несмотря на поиск – пропускаем (он уже ноль)\n",
        "            continue\n",
        "        rank += 1\n",
        "        det_prod *= pivot\n",
        "        # Обнуляем элементы ниже\n",
        "        for r in range(i+1, m):\n",
        "            if rows[r].get(i, 0) != 0:\n",
        "                factor = rows[r][i] / pivot\n",
        "                if factor != 0:\n",
        "                    for j, val in list(rows[i].items()):\n",
        "                        new_val = rows[r].get(j, 0) - factor * val\n",
        "                        if abs(new_val) < 1e-12:\n",
        "                            rows[r].pop(j, None)\n",
        "                        else:\n",
        "                            rows[r][j] = new_val\n",
        "    det_val = det_prod * sign if rank == m else 0.0\n",
        "    return det_val, rank\n",
        "\n",
        "def find_eigenvalues(C: Matrix, tol: float = 1e-6) -> List[float]:\n",
        "    m = C.rows\n",
        "    eigen_vals = []\n",
        "    # Проверим собственное значение 0\n",
        "    det0, rank0 = det_and_rank(C, 0.0)\n",
        "    if rank0 < m:\n",
        "        # Если ранг меньше m, то есть нулевые собственные значения\n",
        "        mult_zero = m - rank0  # кратность 0 как собственного значения\n",
        "        eigen_vals.extend([0.0] * mult_zero)\n",
        "    # Определяем грубую верхнюю границу для собственных значений\n",
        "    trace = 0.0\n",
        "    max_row_sum = 0.0\n",
        "    for i in range(m):\n",
        "        row_sum = 0.0\n",
        "        for idx in range(C.row_ptr[i], C.row_ptr[i+1]):\n",
        "            j = C.columns[idx]; val = C.data[idx]\n",
        "            if i == j:\n",
        "                trace += val\n",
        "            row_sum += abs(val)\n",
        "        max_row_sum = max(max_row_sum, row_sum)\n",
        "    high = max(trace, max_row_sum, 1.0) * 1.1  # некоторая верхняя граница > всех λ\n",
        "    # Сканируем [0, high] на смену знака детерминанта\n",
        "    segments = []\n",
        "    num_steps = 1000\n",
        "    prev_sign = None\n",
        "    prev_val = 0.0\n",
        "    lam_prev = 0.0\n",
        "    for step in range(num_steps+1):\n",
        "        lam = (high * step) / num_steps\n",
        "        det_val, _ = det_and_rank(C, lam)\n",
        "        sign = 1 if det_val > 0 else (-1 if det_val < 0 else 0)\n",
        "        if step == 0:\n",
        "            prev_sign = sign\n",
        "            prev_val = det_val\n",
        "            lam_prev = lam\n",
        "            continue\n",
        "        if sign == 0:\n",
        "            # если прямо ноль - нашли eigenvalue точно\n",
        "            eigen_vals.append(lam)\n",
        "            # перескакиваем маленький интервал\n",
        "            prev_sign = 0\n",
        "            lam_prev = lam\n",
        "            continue\n",
        "        if prev_sign == 0:\n",
        "            # предыдущий был ноль, значит мы уже учли eigenvalue\n",
        "            prev_sign = sign\n",
        "            lam_prev = lam\n",
        "            continue\n",
        "        if sign != 0 and prev_sign != 0 and sign != prev_sign:\n",
        "            # знак изменился между lam_prev и lam -> есть корень\n",
        "            segments.append((lam_prev, lam))\n",
        "        prev_sign = sign if sign != 0 else prev_sign\n",
        "        lam_prev = lam\n",
        "    # Теперь уточняем найденные интервалы методом бисекции\n",
        "    for (a, b) in segments:\n",
        "        fa, _ = det_and_rank(C, a)\n",
        "        fb, _ = det_and_rank(C, b)\n",
        "        # Дополнительная проверка: если fa или fb ноль, включим его\n",
        "        if abs(fa) < 1e-9:\n",
        "            eigen_vals.append(a)\n",
        "            continue\n",
        "        if abs(fb) < 1e-9:\n",
        "            eigen_vals.append(b)\n",
        "            continue\n",
        "        # Иначе обычная бисекция\n",
        "        left, right = a, b\n",
        "        f_left = fa\n",
        "        for _ in range(50):  # макс 50 итераций (2^-50 ~ 9e-16, достаточно)\n",
        "            mid = (left + right) / 2.0\n",
        "            f_mid, _ = det_and_rank(C, mid)\n",
        "            if abs(f_mid) < 1e-9 or (right - left) < tol:\n",
        "                eigen_vals.append(mid)\n",
        "                break\n",
        "            # определяем знак f_mid\n",
        "            sign_mid = 1 if f_mid > 0 else -1\n",
        "            sign_left = 1 if f_left > 0 else -1\n",
        "            if sign_mid == sign_left:\n",
        "                left = mid\n",
        "                f_left = f_mid\n",
        "            else:\n",
        "                right = mid\n",
        "        else:\n",
        "            eigen_vals.append((left+right)/2.0)\n",
        "    # Сортируем найденные собственные значения (возрастание)\n",
        "    eigen_vals.sort()\n",
        "    return eigen_vals\n"
      ],
      "metadata": {
        "id": "Gjv5BKztEy8m"
      },
      "execution_count": 22,
      "outputs": []
    },
    {
      "cell_type": "code",
      "source": [
        "C = Matrix(2, 2)\n",
        "\n",
        "C.AddElement(0, 0, 2)\n",
        "C.AddElement(0, 1, -1)\n",
        "C.AddElement(1, 0, -1)\n",
        "C.AddElement(1, 1, 2)\n",
        "\n",
        "eigenvalues = find_eigenvalues(C)\n",
        "\n",
        "print(\"Собственные значения матрицы:\")\n",
        "for val in eigenvalues:\n",
        "    print(f\"{val:.6f}\")"
      ],
      "metadata": {
        "colab": {
          "base_uri": "https://localhost:8080/"
        },
        "id": "wjYQa02iHOdX",
        "outputId": "242f098a-9d86-407c-9ab6-38a3ad85adee"
      },
      "execution_count": 23,
      "outputs": [
        {
          "output_type": "stream",
          "name": "stdout",
          "text": [
            "Собственные значения матрицы:\n",
            "1.000000\n",
            "3.000000\n"
          ]
        }
      ]
    },
    {
      "cell_type": "markdown",
      "source": [
        "## Найти собственные векторы матрицы С"
      ],
      "metadata": {
        "id": "9oK11AZptrHb"
      }
    },
    {
      "cell_type": "code",
      "source": [
        "import math\n",
        "from typing import List\n",
        "\n",
        "class Matrix:\n",
        "    def __init__(self, rows: int, cols: int):\n",
        "        self.rows = rows\n",
        "        self.cols = cols\n",
        "        self.data = []\n",
        "        self.columns = []\n",
        "        self.row_ptr = [0]\n",
        "\n",
        "    def AddElement(self, row: int, col: int, value: float):\n",
        "        while len(self.row_ptr) <= row + 1:\n",
        "            self.row_ptr.append(self.row_ptr[-1])\n",
        "        if abs(value) > 1e-12:\n",
        "            self.data.append(value)\n",
        "            self.columns.append(col)\n",
        "            self.row_ptr[row + 1] += 1\n",
        "\n",
        "    def GetElement(self, row: int, col: int):\n",
        "        start, end = self.row_ptr[row], self.row_ptr[row + 1]\n",
        "        for i in range(start, end):\n",
        "            if self.columns[i] == col:\n",
        "                return self.data[i]\n",
        "        return 0.0\n",
        "\n",
        "    def to_list(self) -> List[List[float]]:\n",
        "        matrix = [[0.0 for _ in range(self.cols)] for _ in range(self.rows)]\n",
        "        for r in range(self.rows):\n",
        "            for i in range(self.row_ptr[r], self.row_ptr[r + 1]):\n",
        "                c = self.columns[i]\n",
        "                matrix[r][c] = self.data[i]\n",
        "        return matrix\n",
        "\n",
        "    @staticmethod\n",
        "    def from_list(data: List[List[float]]) -> 'Matrix':\n",
        "        rows, cols = len(data), len(data[0])\n",
        "        mat = Matrix(rows, cols)\n",
        "        for r in range(rows):\n",
        "            for c in range(cols):\n",
        "                mat.AddElement(r, c, data[r][c])\n",
        "        return mat\n",
        "\n",
        "    @staticmethod\n",
        "    def from_csr(rows: int, cols: int, data: List[float], columns: List[int], row_ptr: List[int]) -> 'Matrix':\n",
        "        mat = Matrix(rows, cols)\n",
        "        mat.data = data\n",
        "        mat.columns = columns\n",
        "        mat.row_ptr = row_ptr\n",
        "        return mat\n",
        "\n",
        "\n",
        "def gauss_solver(A: Matrix, b: Matrix) -> List[Matrix]:\n",
        "    mat = A.to_list()\n",
        "    rows, cols = A.rows, A.cols\n",
        "    augmented = [row[:] for row in mat]\n",
        "\n",
        "    # Прямой ход\n",
        "    rank = 0\n",
        "    where = [-1] * cols\n",
        "    for col in range(cols):\n",
        "        sel = -1\n",
        "        for row in range(rank, rows):\n",
        "            if abs(augmented[row][col]) > 1e-12:\n",
        "                sel = row\n",
        "                break\n",
        "        if sel == -1:\n",
        "            continue\n",
        "        augmented[rank], augmented[sel] = augmented[sel], augmented[rank]\n",
        "        pivot = augmented[rank][col]\n",
        "        for j in range(col, cols):\n",
        "            augmented[rank][j] /= pivot\n",
        "        for row in range(rows):\n",
        "            if row != rank and abs(augmented[row][col]) > 1e-12:\n",
        "                factor = augmented[row][col]\n",
        "                for j in range(col, cols):\n",
        "                    augmented[row][j] -= factor * augmented[rank][j]\n",
        "        where[col] = rank\n",
        "        rank += 1\n",
        "\n",
        "    # Найдём базис ядра (нулевого пространства)\n",
        "    basis = []\n",
        "    for free_col in range(cols):\n",
        "        if where[free_col] != -1:\n",
        "            continue\n",
        "        vec = [0.0] * cols\n",
        "        vec[free_col] = 1.0\n",
        "        for j in range(cols):\n",
        "            if where[j] != -1:\n",
        "                vec[j] = -augmented[where[j]][free_col]\n",
        "        col_vec = [[v] for v in vec]\n",
        "        basis.append(Matrix.from_list(col_vec))\n",
        "    return basis\n",
        "\n",
        "\n",
        "\n",
        "def find_eigenvectors(C: Matrix, eigenvalues: List[float]) -> List[Matrix]:\n",
        "    m = C.rows\n",
        "    eigenvectors = []\n",
        "\n",
        "    # Группируем собственные значения по кратности (с учётом погрешности)\n",
        "    eigenvalues = sorted(eigenvalues)\n",
        "    grouped = []\n",
        "    i = 0\n",
        "    while i < len(eigenvalues):\n",
        "        lam = eigenvalues[i]\n",
        "        count = 1\n",
        "        while i + count < len(eigenvalues) and abs(eigenvalues[i + count] - lam) < 1e-5:\n",
        "            count += 1\n",
        "        grouped.append((lam, count))\n",
        "        i += count\n",
        "\n",
        "    for lam, mult in grouped:\n",
        "        A_data, A_cols, A_row_ptr = [], [], [0]\n",
        "\n",
        "        for r in range(m):\n",
        "            row_dict = {}\n",
        "            for idx in range(C.row_ptr[r], C.row_ptr[r + 1]):\n",
        "                col = C.columns[idx]\n",
        "                val = C.data[idx]\n",
        "                row_dict[col] = val\n",
        "            row_dict[r] = row_dict.get(r, 0.0) - lam\n",
        "            for col in sorted(row_dict.keys()):\n",
        "                val = row_dict[col]\n",
        "                if abs(val) > 1e-12:\n",
        "                    A_data.append(val)\n",
        "                    A_cols.append(col)\n",
        "            A_row_ptr.append(len(A_data))\n",
        "\n",
        "        A = Matrix.from_csr(m, m, A_data, A_cols, A_row_ptr)\n",
        "        try:\n",
        "            solutions = gauss_solver(A, Matrix(m, 1))\n",
        "        except:\n",
        "            solutions = []\n",
        "\n",
        "        for vec in solutions:\n",
        "            dense = [vec.GetElement(i, 0) for i in range(vec.rows)]\n",
        "            if all(abs(x) < 1e-9 for x in dense):\n",
        "                continue\n",
        "            norm = math.sqrt(sum(x * x for x in dense))\n",
        "            if norm < 1e-9:\n",
        "                continue\n",
        "            normalized = [[x / norm] for x in dense]\n",
        "            eigenvectors.append(Matrix.from_list(normalized))\n",
        "            if len(eigenvectors) >= mult:\n",
        "                break\n",
        "\n",
        "    return eigenvectors\n"
      ],
      "metadata": {
        "id": "Mv06adNFThpE"
      },
      "execution_count": 24,
      "outputs": []
    },
    {
      "cell_type": "code",
      "source": [
        "# Пример матрицы 2x2: [[2, 1], [1, 2]] с собственными значениями 1 и 3\n",
        "C = Matrix.from_list([[2, 1], [1, 2]])\n",
        "eigenvalues = [1.0, 3.0]\n",
        "vectors = find_eigenvectors(C, eigenvalues)\n",
        "\n",
        "for i, vec in enumerate(vectors):\n",
        "    print(f\"Собственный вектор {i + 1}:\")\n",
        "    for row in vec.to_list():\n",
        "        print(row)\n"
      ],
      "metadata": {
        "colab": {
          "base_uri": "https://localhost:8080/"
        },
        "id": "ha44STEETxHh",
        "outputId": "280b2a28-f422-42c0-df33-6550c4e8373f"
      },
      "execution_count": 25,
      "outputs": [
        {
          "output_type": "stream",
          "name": "stdout",
          "text": [
            "Собственный вектор 1:\n",
            "[-0.7071067811865475]\n",
            "[0.7071067811865475]\n",
            "Собственный вектор 2:\n",
            "[0.7071067811865475]\n",
            "[0.7071067811865475]\n"
          ]
        }
      ]
    },
    {
      "cell_type": "markdown",
      "source": [
        "## Вычислить долю объясненной дисперсии"
      ],
      "metadata": {
        "id": "pfGOHqout3iK"
      }
    },
    {
      "cell_type": "markdown",
      "source": [
        "explained_variance_ratio возвращает отношение суммы первых k собственных значений к сумме всех, показывая, какую долю информации описывают первые компоненты."
      ],
      "metadata": {
        "id": "ZLJjOzg_tWkV"
      }
    },
    {
      "cell_type": "code",
      "source": [
        "from typing import List\n",
        "\n",
        "# Вычисление доли объяснённой дисперсии\n",
        "def explained_variance_ratio(eigenvalues: List[float], k: int) -> float:\n",
        "\n",
        "    if k <= 0 or k > len(eigenvalues):\n",
        "        raise ValueError(\"Некорректное значение k\")\n",
        "\n",
        "    numerator = sum(eigenvalues[:k])\n",
        "    denominator = sum(eigenvalues)\n",
        "    if abs(denominator) < 1e-12:\n",
        "        raise ValueError(\"Сумма собственных значений равна нулю\")\n",
        "\n",
        "    return numerator / denominator\n"
      ],
      "metadata": {
        "id": "G5FzP3PowuEv"
      },
      "execution_count": 26,
      "outputs": []
    },
    {
      "cell_type": "code",
      "source": [
        "# Собственные значения (например, после PCA)\n",
        "eigenvalues = [3.0, 2.0, 1.0, 0.5]\n",
        "\n",
        "# Сколько компонент учитываем\n",
        "k = 2\n",
        "\n",
        "# Вычисляем долю объяснённой дисперсии\n",
        "gamma = explained_variance_ratio(eigenvalues, k)\n",
        "print(f\"Доля объяснённой дисперсии при k = {k}: {gamma:.4f}\")"
      ],
      "metadata": {
        "colab": {
          "base_uri": "https://localhost:8080/"
        },
        "id": "eCBEIJLrV08O",
        "outputId": "fe9f3ca7-5864-40dc-f9c6-167f13d9f8a6"
      },
      "execution_count": 27,
      "outputs": [
        {
          "output_type": "stream",
          "name": "stdout",
          "text": [
            "Доля объяснённой дисперсии при k = 2: 0.7692\n"
          ]
        }
      ]
    },
    {
      "cell_type": "markdown",
      "source": [
        "---\n",
        "\n",
        "# HARD LEVEL\n",
        "\n",
        "---\n",
        "\n"
      ],
      "metadata": {
        "id": "UABjgeQSuDMT"
      }
    },
    {
      "cell_type": "markdown",
      "source": [
        "## Реализовать полный алгоритм РСА"
      ],
      "metadata": {
        "id": "KXggruGsuJHq"
      }
    },
    {
      "cell_type": "markdown",
      "source": [
        "Функция pca объединяет все шаги: центрирование данных, построение ковариационной матрицы, поиск собственных значений и векторов, выбор k главных компонент, проекцию данных и вычисление объяснённой дисперсии."
      ],
      "metadata": {
        "id": "H7PJ7lT-tgZd"
      }
    },
    {
      "cell_type": "code",
      "source": [
        "from typing import List, Tuple\n",
        "import math\n",
        "\n",
        "class Matrix:\n",
        "    def __init__(self, rows: int, cols: int, data=None, columns=None, row_ptr=None):\n",
        "        self.rows = rows\n",
        "        self.cols = cols\n",
        "        self.data = data or []\n",
        "        self.columns = columns or []\n",
        "        self.row_ptr = row_ptr or [0] * (rows + 1)\n",
        "\n",
        "    @staticmethod\n",
        "    def from_list(lst: List[List[float]]) -> 'Matrix':\n",
        "        rows = len(lst)\n",
        "        cols = len(lst[0]) if rows > 0 else 0\n",
        "        data = []\n",
        "        columns = []\n",
        "        row_ptr = [0]\n",
        "        for row in lst:\n",
        "            for j, val in enumerate(row):\n",
        "                if abs(val) > 1e-12:\n",
        "                    data.append(val)\n",
        "                    columns.append(j)\n",
        "            row_ptr.append(len(data))\n",
        "        return Matrix(rows, cols, data, columns, row_ptr)\n",
        "\n",
        "    def to_list(self) -> List[List[float]]:\n",
        "        result = [[0.0] * self.cols for _ in range(self.rows)]\n",
        "        for i in range(self.rows):\n",
        "            for idx in range(self.row_ptr[i], self.row_ptr[i+1]):\n",
        "                j = self.columns[idx]\n",
        "                result[i][j] = self.data[idx]\n",
        "        return result\n",
        "\n",
        "def center_data(X: Matrix) -> Matrix:\n",
        "    n, m = X.rows, X.cols\n",
        "    col_sum = [0.0] * m\n",
        "    count = [0] * m\n",
        "    for i in range(n):\n",
        "        for idx in range(X.row_ptr[i], X.row_ptr[i + 1]):\n",
        "            j = X.columns[idx]\n",
        "            col_sum[j] += X.data[idx]\n",
        "            count[j] += 1\n",
        "    means = [col_sum[j] / count[j] if count[j] > 0 else 0.0 for j in range(m)]\n",
        "\n",
        "    data, columns, row_ptr = [], [], [0]\n",
        "    for i in range(n):\n",
        "        row_data = {}\n",
        "        for idx in range(X.row_ptr[i], X.row_ptr[i + 1]):\n",
        "            j = X.columns[idx]\n",
        "            val = X.data[idx] - means[j]\n",
        "            if abs(val) > 1e-12:\n",
        "                row_data[j] = val\n",
        "        for j in sorted(row_data):\n",
        "            data.append(row_data[j])\n",
        "            columns.append(j)\n",
        "        row_ptr.append(len(data))\n",
        "    return Matrix(n, m, data, columns, row_ptr)\n",
        "\n",
        "def covariance_matrix(X: Matrix) -> Matrix:\n",
        "    n, m = X.rows, X.cols\n",
        "    cov_dict = {}\n",
        "    for i in range(n):\n",
        "        row_entries = {}\n",
        "        for idx in range(X.row_ptr[i], X.row_ptr[i + 1]):\n",
        "            j = X.columns[idx]\n",
        "            row_entries[j] = X.data[idx]\n",
        "        for j in row_entries:\n",
        "            for k in row_entries:\n",
        "                key = (j, k) if j <= k else (k, j)\n",
        "                cov_dict[key] = cov_dict.get(key, 0.0) + row_entries[j] * row_entries[k]\n",
        "    factor = 1.0 / (n - 1) if n > 1 else 1.0\n",
        "    data, columns, row_ptr = [], [], [0]\n",
        "    for i in range(m):\n",
        "        row_items = []\n",
        "        for j in range(m):\n",
        "            key = (i, j) if i <= j else (j, i)\n",
        "            val = cov_dict.get(key, 0.0) * factor\n",
        "            if abs(val) > 1e-12:\n",
        "                row_items.append((j, val))\n",
        "        row_items.sort()\n",
        "        for j, val in row_items:\n",
        "            data.append(val)\n",
        "            columns.append(j)\n",
        "        row_ptr.append(len(data))\n",
        "    return Matrix(m, m, data, columns, row_ptr)\n",
        "\n",
        "def explained_variance_ratio(eigenvalues: List[float], k: int) -> float:\n",
        "    if not eigenvalues or k <= 0:\n",
        "        return 0.0\n",
        "    sorted_vals = sorted(eigenvalues, reverse=True)\n",
        "    k = min(k, len(sorted_vals))\n",
        "    top_sum = sum(sorted_vals[:k])\n",
        "    total_sum = sum(sorted_vals)\n",
        "    return top_sum / total_sum if total_sum != 0 else 0.0\n",
        "\n",
        "def find_eigenvalues(A: Matrix, tol: float = 1e-6) -> List[float]:\n",
        "    # Это простая реализация для симметричной положительно определённой матрицы с использованием QR-алгоритма без сдвигов\n",
        "    A_list = A.to_list()\n",
        "    n = A.rows\n",
        "    Ak = [row[:] for row in A_list]\n",
        "    for _ in range(100):\n",
        "        # Простой QR-разложение через Gram-Schmidt\n",
        "        Q = [[0.0]*n for _ in range(n)]\n",
        "        R = [[0.0]*n for _ in range(n)]\n",
        "        for j in range(n):\n",
        "            v = [Ak[i][j] for i in range(n)]\n",
        "            for i in range(j):\n",
        "                R[i][j] = sum(Q[k][i] * Ak[k][j] for k in range(n))\n",
        "                for k in range(n):\n",
        "                    v[k] -= R[i][j] * Q[k][i]\n",
        "            norm = math.sqrt(sum(vk * vk for vk in v))\n",
        "            for k in range(n):\n",
        "                Q[k][j] = v[k] / norm if norm > 0 else 0.0\n",
        "            R[j][j] = norm\n",
        "        # Ak = RQ\n",
        "        Ak = [[sum(R[i][k] * Q[k][j] for k in range(n)) for j in range(n)] for i in range(n)]\n",
        "    return [Ak[i][i] for i in range(n)]\n",
        "\n",
        "def find_eigenvectors(C: Matrix, eigenvalues: List[float]) -> List[Matrix]:\n",
        "    n = C.rows\n",
        "    C_dense = C.to_list()\n",
        "    eigenvectors = []\n",
        "    for lambd in eigenvalues:\n",
        "        # Решаем (C - lambda * I)v = 0 с помощью метода Гаусса\n",
        "        A = [[C_dense[i][j] - (lambd if i == j else 0.0) for j in range(n)] for i in range(n)]\n",
        "        # Прямой ход Гаусса\n",
        "        for i in range(n):\n",
        "            pivot = A[i][i]\n",
        "            if abs(pivot) < 1e-12:\n",
        "                continue\n",
        "            for j in range(i+1, n):\n",
        "                factor = A[j][i] / pivot\n",
        "                for k in range(n):\n",
        "                    A[j][k] -= factor * A[i][k]\n",
        "        # Обратный ход: найдём один ненулевой собственный вектор (последний столбец нулевой базис)\n",
        "        x = [0.0] * n\n",
        "        x[-1] = 1.0\n",
        "        for i in range(n-2, -1, -1):\n",
        "            x[i] = -sum(A[i][j] * x[j] for j in range(i+1, n)) / A[i][i] if abs(A[i][i]) > 1e-12 else 0.0\n",
        "        # Нормализация\n",
        "        norm = math.sqrt(sum(xi * xi for xi in x))\n",
        "        x = [xi / norm if norm > 0 else 0.0 for xi in x]\n",
        "        # Преобразуем в разреженную матрицу\n",
        "        data, columns = [], []\n",
        "        for j, val in enumerate(x):\n",
        "            if abs(val) > 1e-12:\n",
        "                data.append(val)\n",
        "                columns.append(j)\n",
        "        eigenvectors.append(Matrix(1, n, data, columns, [0, len(data)]))\n",
        "    return eigenvectors\n",
        "\n",
        "def pca(X: Matrix, k: int) -> Tuple[Matrix, float]:\n",
        "    X_centered = center_data(X)\n",
        "    C = covariance_matrix(X_centered)\n",
        "    eigen_vals = find_eigenvalues(C)\n",
        "    eigen_vecs = find_eigenvectors(C, eigen_vals)\n",
        "    eig_pairs = sorted(zip(eigen_vals, eigen_vecs), key=lambda x: x[0], reverse=True)\n",
        "    top_vecs = [vec for _, vec in eig_pairs[:k]]\n",
        "\n",
        "    n, m = X_centered.rows, X_centered.cols\n",
        "    proj_data, proj_cols, proj_row_ptr = [], [], [0]\n",
        "    for i in range(n):\n",
        "        row_result = []\n",
        "        for v in top_vecs:\n",
        "            dot = 0.0\n",
        "            v_dict = {}\n",
        "            for idx in range(v.row_ptr[0], v.row_ptr[1]):\n",
        "                v_dict[v.columns[idx]] = v.data[idx]\n",
        "            for idx in range(X_centered.row_ptr[i], X_centered.row_ptr[i+1]):\n",
        "                j = X_centered.columns[idx]\n",
        "                dot += X_centered.data[idx] * v_dict.get(j, 0.0)\n",
        "            row_result.append(dot)\n",
        "        for j, val in enumerate(row_result):\n",
        "            if abs(val) > 1e-12:\n",
        "                proj_data.append(val)\n",
        "                proj_cols.append(j)\n",
        "        proj_row_ptr.append(len(proj_data))\n",
        "    X_proj = Matrix(n, k, proj_data, proj_cols, proj_row_ptr)\n",
        "    ratio = explained_variance_ratio(eigen_vals, k)\n",
        "    return X_proj, ratio\n",
        "\n",
        "# === Пример использования ===\n",
        "if __name__ == '__main__':\n",
        "    data = [\n",
        "        [2.5, 2.4],\n",
        "        [0.5, 0.7],\n",
        "        [2.2, 2.9],\n",
        "        [1.9, 2.2],\n",
        "        [3.1, 3.0],\n",
        "        [2.3, 2.7],\n",
        "        [2, 1.6],\n",
        "        [1, 1.1],\n",
        "        [1.5, 1.6],\n",
        "        [1.1, 0.9]\n",
        "    ]\n",
        "    mat = Matrix.from_list(data)\n",
        "    pca_result, explained_ratio = pca(mat, 2)\n",
        "    print(\"Проецированные данные:\", pca_result.to_list())\n",
        "    print(\"Доля объяснённой дисперсии:\", explained_ratio)\n"
      ],
      "metadata": {
        "colab": {
          "base_uri": "https://localhost:8080/"
        },
        "id": "6j1hj-rBem3H",
        "outputId": "f5f4a870-29f6-4292-9e6a-afed5bdfa17b"
      },
      "execution_count": 43,
      "outputs": [
        {
          "output_type": "stream",
          "name": "stdout",
          "text": [
            "Проецированные данные: [[0.8313435307943868, -0.158328562825292], [-1.7801066874034057, 0.10686524908346962], [0.9842180170834549, 0.4043697501647625], [0.27151578440234503, 0.13593814336079305], [1.6796968501764882, -0.17555196241336857], [0.9092160572379272, 0.19371670361824406], [-0.09201174843324175, -0.3517582097837342], [-1.1452769811658363, 0.02325158944390371], [-0.438315881680752, 0.00889875645383989], [-1.220278941011364, -0.18740145710261535]]\n",
            "Доля объяснённой дисперсии: 1.0\n"
          ]
        }
      ]
    },
    {
      "cell_type": "markdown",
      "source": [
        "##Визуализировать проекцию данных на первые две главные компоненты"
      ],
      "metadata": {
        "id": "r-AaPrrEuaow"
      }
    },
    {
      "cell_type": "markdown",
      "source": [
        "plot_pca_projection создаёт точечный график проекции данных на первые две главные компоненты, подписывает оси и выводит сетку."
      ],
      "metadata": {
        "id": "s_VOQrQhtm18"
      }
    },
    {
      "cell_type": "code",
      "source": [
        "# Предположим, что у нас есть вот такой Matrix-класс\n",
        "class Matrix:\n",
        "    def __init__(self, rows, cols):\n",
        "        self.rows = rows\n",
        "        self.cols = cols\n",
        "        self.data = [[0.0 for _ in range(cols)] for _ in range(rows)]\n",
        "\n",
        "    def SetElement(self, row, col, value):\n",
        "        self.data[row][col] = value\n",
        "\n",
        "    def GetElement(self, row, col):\n",
        "        return self.data[row][col]\n",
        "\n",
        "\n",
        "from matplotlib.figure import Figure\n",
        "import matplotlib.pyplot as plt\n",
        "\n",
        "def plot_pca_projection(X_proj: 'Matrix') -> Figure:\n",
        "    if X_proj.cols < 2:\n",
        "        raise ValueError(\"Для визуализации требуется как минимум 2 главные компоненты\")\n",
        "\n",
        "    n = X_proj.rows\n",
        "    x_vals = [X_proj.GetElement(i, 0) for i in range(n)]\n",
        "    y_vals = [X_proj.GetElement(i, 1) for i in range(n)]\n",
        "\n",
        "    fig, ax = plt.subplots()\n",
        "    ax.scatter(x_vals, y_vals, c='blue', edgecolors='k', marker='o')\n",
        "    ax.set_xlabel('PC1')\n",
        "    ax.set_ylabel('PC2')\n",
        "    ax.set_title('PCA Projection')\n",
        "    ax.grid(True)\n",
        "    return fig\n",
        "\n",
        "# пример на 10 точек\n",
        "X_proj = Matrix(10, 2)\n",
        "import random\n",
        "for i in range(10):\n",
        "    X_proj.SetElement(i, 0, random.uniform(-3, 3))  # PC1\n",
        "    X_proj.SetElement(i, 1, random.uniform(-2, 2))  # PC2\n",
        "\n",
        "# Визуализируем\n",
        "fig = plot_pca_projection(X_proj)\n",
        "plt.show()\n"
      ],
      "metadata": {
        "colab": {
          "base_uri": "https://localhost:8080/",
          "height": 471
        },
        "id": "wtDiqbDGYp_9",
        "outputId": "df834d6b-1763-4782-cea2-f507040c04fe"
      },
      "execution_count": 37,
      "outputs": [
        {
          "output_type": "display_data",
          "data": {
            "text/plain": [
              "<Figure size 640x480 with 1 Axes>"
            ],
            "image/png": "[encoded data removed]"
          },
          "metadata": {}
        }
      ]
    },
    {
      "cell_type": "markdown",
      "source": [
        "## Вычислить среднеквадратическую ошибку восстановления данных"
      ],
      "metadata": {
        "id": "3EO2ci8ZutsR"
      }
    },
    {
      "cell_type": "markdown",
      "source": [
        "reconstruction_error считает MSE между элементами исходной и восстановленной матриц"
      ],
      "metadata": {
        "id": "jD8FhT9pts9Y"
      }
    },
    {
      "cell_type": "code",
      "source": [
        "from typing import List, Tuple\n",
        "\n",
        "# Вычисление среднеквадратической ошибки восстановления данных\n",
        "def reconstruction_error(X_orig: 'Matrix', X_recon: 'Matrix') -> float:\n",
        "\n",
        "    if X_orig.rows != X_recon.rows or X_orig.cols != X_recon.cols:\n",
        "        raise ValueError(\"Размеры матриц не совпадают\")\n",
        "\n",
        "    n, m = X_orig.rows, X_orig.cols\n",
        "    total = 0.0\n",
        "\n",
        "    for i in range(n):\n",
        "        for j in range(m):\n",
        "            x = X_orig.GetElement(i, j)\n",
        "            y = X_recon.GetElement(i, j)\n",
        "            total += (x - y) ** 2\n",
        "\n",
        "    return total / (n * m)"
      ],
      "metadata": {
        "id": "dqrahFMW01Jm"
      },
      "execution_count": 38,
      "outputs": []
    },
    {
      "cell_type": "code",
      "source": [
        "# Создаём две простые матрицы вручную\n",
        "\n",
        "X_orig = Matrix(2, 2)\n",
        "X_orig.AddElement(0, 0, 1)\n",
        "X_orig.AddElement(0, 1, 2)\n",
        "X_orig.AddElement(1, 0, 3)\n",
        "X_orig.AddElement(1, 1, 4)\n",
        "\n",
        "X_recon = Matrix(2, 2)\n",
        "X_recon.AddElement(0, 0, 0.9)\n",
        "X_recon.AddElement(0, 1, 2.1)\n",
        "X_recon.AddElement(1, 0, 2.9)\n",
        "X_recon.AddElement(1, 1, 4.2)\n",
        "\n",
        "# Вызываем функцию\n",
        "mse = reconstruction_error(X_orig, X_recon)\n",
        "\n",
        "# Печатаем результат\n",
        "print(f\"MSE восстановления: {mse:.6f}\")\n"
      ],
      "metadata": {
        "colab": {
          "base_uri": "https://localhost:8080/"
        },
        "id": "n_N_JqpXZiI1",
        "outputId": "2782a886-ec80-4016-f2fb-ebf8db7d1f19"
      },
      "execution_count": 41,
      "outputs": [
        {
          "output_type": "stream",
          "name": "stdout",
          "text": [
            "MSE восстановления: 0.017500\n"
          ]
        }
      ]
    }
  ]
}